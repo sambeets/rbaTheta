{
 "cells": [
  {
   "cell_type": "markdown",
   "metadata": {},
   "source": [
    "RBA_theta is a class that takes the power production of n number of wind turbines as a discrete series and gives out the significant events and persistent events with a given threshold value."
   ]
  },
  {
   "cell_type": "code",
   "execution_count": null,
   "metadata": {},
   "outputs": [],
   "source": [
    "class RBA_theta:\n",
    "    def __init__(self):\n",
    "    \n",
    "    \n",
    "    def normalize(self):\n",
    "        \n",
    "    "
   ]
  }
 ],
 "metadata": {
  "kernelspec": {
   "display_name": "Python 3",
   "language": "python",
   "name": "python3"
  },
  "language_info": {
   "codemirror_mode": {
    "name": "ipython",
    "version": 3
   },
   "file_extension": ".py",
   "mimetype": "text/x-python",
   "name": "python",
   "nbconvert_exporter": "python",
   "pygments_lexer": "ipython3",
   "version": "3.6.4"
  }
 },
 "nbformat": 4,
 "nbformat_minor": 2
}
